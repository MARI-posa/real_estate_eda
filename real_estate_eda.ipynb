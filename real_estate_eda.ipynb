{
 "cells": [
  {
   "cell_type": "code",
   "execution_count": 1,
   "id": "ede054ad-3ecf-4f28-b227-73f9b03d4f5e",
   "metadata": {
    "tags": []
   },
   "outputs": [
    {
     "data": {
      "text/plain": [
       "Index(['Unnamed: 0', 'ID  объявления', 'Количество комнат', 'Тип', 'Метро',\n",
       "       'Адрес', 'Площадь, м2', 'Дом', 'Парковка', 'Цена', 'Телефоны',\n",
       "       'Описание', 'Ремонт', 'Площадь комнат, м2', 'Балкон', 'Окна', 'Санузел',\n",
       "       'Можно с детьми/животными', 'Дополнительно', 'Название ЖК',\n",
       "       'Серия дома', 'Высота потолков, м', 'Лифт', 'Мусоропровод',\n",
       "       'Ссылка на объявление'],\n",
       "      dtype='object')"
      ]
     },
     "execution_count": 1,
     "metadata": {},
     "output_type": "execute_result"
    }
   ],
   "source": [
    "import re\n",
    "import pandas as pd\n",
    "import numpy as np\n",
    "import matplotlib as mpl\n",
    "import matplotlib.pyplot as plt\n",
    "import seaborn as sns\n",
    "import requests\n",
    "\n",
    "\n",
    "\n",
    "path = \"./datasets/_data.csv\"\n",
    "rent = pd.read_csv(path)\n",
    "rent.columns"
   ]
  },
  {
   "cell_type": "code",
   "execution_count": 2,
   "id": "d17e891a-d96c-47c3-9327-e77a82ee8f17",
   "metadata": {
    "tags": []
   },
   "outputs": [
    {
     "data": {
      "text/plain": [
       "array(['Москва', 'Санкт-Петербург', 'Краснодарский край'], dtype=object)"
      ]
     },
     "execution_count": 2,
     "metadata": {},
     "output_type": "execute_result"
    }
   ],
   "source": [
    "# 'Адрес' – analys\n",
    "# Define 'City' column \n",
    "cities = rent['Адрес'].apply(lambda x: x.split(',')[0])\n",
    "cities.unique()"
   ]
  },
  {
   "cell_type": "code",
   "execution_count": 3,
   "id": "6a74a175-2e25-46d3-8f74-ca1303380740",
   "metadata": {
    "tags": []
   },
   "outputs": [
    {
     "data": {
      "text/plain": [
       "array(['Москва'], dtype=object)"
      ]
     },
     "execution_count": 3,
     "metadata": {},
     "output_type": "execute_result"
    }
   ],
   "source": [
    "# 'Адрес' – remove rows with 'Москва', 'Санкт-Петербург'\n",
    "rent.drop(rent[rent['Адрес'].str.startswith('Санкт-Петербург')].index, inplace = True)\n",
    "rent.drop(rent[rent['Адрес'].str.startswith('Краснодарский край')].index, inplace = True)\n",
    "cities = rent['Адрес'].apply(lambda x: x.split(',')[0])\n",
    "cities.unique()"
   ]
  },
  {
   "cell_type": "code",
   "execution_count": null,
   "id": "a6d8733c-6a82-4828-9729-bd20bf8e68d3",
   "metadata": {},
   "outputs": [],
   "source": [
    "# 'ID  объявления'\n"
   ]
  },
  {
   "cell_type": "code",
   "execution_count": null,
   "id": "72583a84-9896-416b-903f-7f2d572ec510",
   "metadata": {},
   "outputs": [],
   "source": [
    "# 'Количество комнат'"
   ]
  },
  {
   "cell_type": "code",
   "execution_count": null,
   "id": "42459985-1d93-4739-843b-715ffcba6d4b",
   "metadata": {},
   "outputs": [],
   "source": [
    "# 'Тип'\n"
   ]
  },
  {
   "cell_type": "code",
   "execution_count": null,
   "id": "21abecd1-9e7e-4fb1-840f-a0fa3fa1b59f",
   "metadata": {},
   "outputs": [],
   "source": [
    "# 'Метро'\n"
   ]
  },
  {
   "cell_type": "code",
   "execution_count": null,
   "id": "178cab31-7e28-4487-a960-cbdc2f1c3cc4",
   "metadata": {},
   "outputs": [],
   "source": [
    "# 'Площадь, м2'\n"
   ]
  },
  {
   "cell_type": "code",
   "execution_count": null,
   "id": "32c01ae3-e766-4e72-aa91-3f3e8c7319be",
   "metadata": {},
   "outputs": [],
   "source": [
    "# 'Дом'\n"
   ]
  },
  {
   "cell_type": "code",
   "execution_count": null,
   "id": "07694ea4-1d70-4ac0-9fcd-c283d77660a7",
   "metadata": {},
   "outputs": [],
   "source": [
    "# 'Парковка'\n"
   ]
  },
  {
   "cell_type": "code",
   "execution_count": null,
   "id": "2b4311bd-9d22-4326-9794-43e82ab7246b",
   "metadata": {},
   "outputs": [],
   "source": [
    "# 'Цена'\n"
   ]
  },
  {
   "cell_type": "code",
   "execution_count": null,
   "id": "64e66790-0690-40e8-96fd-3fbef709153a",
   "metadata": {},
   "outputs": [],
   "source": [
    "# 'Телефоны'\n"
   ]
  },
  {
   "cell_type": "code",
   "execution_count": null,
   "id": "d3b21228-a0a3-49bc-9edc-55412e8f55c7",
   "metadata": {},
   "outputs": [],
   "source": [
    "# 'Описание'\n"
   ]
  },
  {
   "cell_type": "code",
   "execution_count": null,
   "id": "dd03820d-7674-4ee7-a3ff-29a497a7263b",
   "metadata": {},
   "outputs": [],
   "source": [
    "# 'Ремонт'\n"
   ]
  },
  {
   "cell_type": "code",
   "execution_count": null,
   "id": "056a59da-7e00-4c4c-8b74-d098222bcc47",
   "metadata": {},
   "outputs": [],
   "source": [
    "# 'Площадь комнат, м2'\n"
   ]
  },
  {
   "cell_type": "code",
   "execution_count": null,
   "id": "585408ae-9d45-4047-ab02-b555ce739fc0",
   "metadata": {},
   "outputs": [],
   "source": [
    "# 'Балкон'\n",
    "rent[['balcony', 'loggia']] = rent.Балкон.str.split(\",\", expand = True)\n",
    "rent[['balcony', 'loggia']]\n",
    "#df['balcony'] = df['balcony'].fillna('0 0')\n",
    "rent[['balcony', 'balconynew']] = rent.balcony.str.split(\" \", expand = True)\n",
    "rent.loc[rent['balcony'] == 'Лоджия', 'loggia'] = rent['balconynew']\n",
    "rent.loc[rent['balcony'] == 'Балкон', 'balcony'] = rent['balconynew']\n",
    "rent = rent.assign(balcony = lambda x: x['balcony'].str.extract('(\\d+)'))\n",
    "rent = rent.assign(loggia = lambda x: x['loggia'].str.extract('(\\d+)'))\n",
    "rent['balcony'] = rent['balcony'].fillna(0)\n",
    "rent['loggia'] = rent['loggia'].fillna(0)\n",
    "rent = rent.drop(['balconynew', 'Балкон'], axis=1)"
   ]
  },
  {
   "cell_type": "code",
   "execution_count": null,
   "id": "d054ee81-cf1e-4958-a09e-087c2ef56755",
   "metadata": {},
   "outputs": [],
   "source": [
    "# 'Окна'\n"
   ]
  },
  {
   "cell_type": "code",
   "execution_count": null,
   "id": "b4c971a2-8257-4355-aafb-8c38c6eb2d0c",
   "metadata": {},
   "outputs": [],
   "source": [
    "# 'Санузел'\n",
    "rent[['sf1', 'sf2']] = rent.Санузел.str.split(\",\", expand = True)\n",
    "rent[['sf1', 'sfnew']] = rent.sf1.str.split(\" \", expand = True)\n",
    "rent.loc[rent['sf1'] == 'Раздельный', 'sf2'] = rent['sfnew']\n",
    "rent.loc[rent['sf1'] == 'Совмещенный', 'sf1'] = rent['sfnew']\n",
    "rent = rent.assign(sf1 = lambda x: x['sf1'].str.extract('(\\d+)'))\n",
    "rent = rent.assign(sf2 = lambda x: x['sf2'].str.extract('(\\d+)'))\n",
    "rent['sf1'] = rent['sf1'].fillna(0)\n",
    "rent['sf2'] = rent['sf2'].fillna(0)\n",
    "rent = rent.drop(['sfnew', 'Санузел'], axis=1)\n",
    "rent = rent.astype({'sf1':'int'})\n",
    "rent = rent.astype({'sf2':'int'})\n",
    "rent['bathroom'] = rent['sf1'] + rent['sf2'] \n",
    "rent = rent.astype({'bathroom':'int'})\n",
    "rent.drop(['sf1', 'sf2'], axis=1)"
   ]
  },
  {
   "cell_type": "code",
   "execution_count": null,
   "id": "478c22a0-ad3f-48af-a520-8b5da1ffa54d",
   "metadata": {},
   "outputs": [],
   "source": [
    "# 'Можно с детьми/животными'\n"
   ]
  },
  {
   "cell_type": "code",
   "execution_count": null,
   "id": "55f126ff-4a1c-4c73-bff3-942d9e17965e",
   "metadata": {},
   "outputs": [],
   "source": [
    "# 'Дополнительно'\n"
   ]
  },
  {
   "cell_type": "code",
   "execution_count": null,
   "id": "03c988e9-71bd-4702-9f36-73c560af7485",
   "metadata": {},
   "outputs": [],
   "source": [
    "# 'Название ЖК'\n"
   ]
  },
  {
   "cell_type": "code",
   "execution_count": null,
   "id": "9a68b900-6b1c-4f4b-8221-3a31472be64f",
   "metadata": {},
   "outputs": [],
   "source": [
    "# 'Серия дома'\n"
   ]
  },
  {
   "cell_type": "code",
   "execution_count": null,
   "id": "be4d7be2-9603-4d6f-8823-f2e599985b27",
   "metadata": {},
   "outputs": [],
   "source": [
    "# 'Высота потолков, м'\n"
   ]
  },
  {
   "cell_type": "code",
   "execution_count": null,
   "id": "919a0964-7cb5-4c56-a7b4-cda3460f65c6",
   "metadata": {},
   "outputs": [],
   "source": [
    "# 'Лифт'\n",
    "rent[['passenger_lift', 'service_lift']] = rent.Лифт.str.split(\",\", expand = True)\n",
    "rent[['passenger_lift', 'passenger_liftnew']] = rent.passenger_lift.str.split(\" \", expand = True)\n",
    "rent.loc[rent['passenger_lift'] == 'Груз', 'service_lift'] = rent['passenger_liftnew']\n",
    "rent.loc[rent['passenger_lift'] == 'Пасс', 'passenger_lift'] = rent['passenger_liftnew']\n",
    "rent = rent.assign(passenger_lift = lambda x: x['passenger_lift'].str.extract('(\\d+)'))\n",
    "rent = rent.assign(service_lift = lambda x: x['service_lift'].str.extract('(\\d+)'))\n",
    "rent['passenger_lift'] = rent['passenger_lift'].fillna(0)\n",
    "rent['service_lift'] = rent['service_lift'].fillna(0)\n",
    "rent = rent.drop(['passenger_liftnew', 'Лифт'], axis=1)"
   ]
  },
  {
   "cell_type": "code",
   "execution_count": null,
   "id": "ae6ed31f-8917-4bf5-87cd-17c60c33d101",
   "metadata": {},
   "outputs": [],
   "source": [
    "# 'Мусоропровод'\n"
   ]
  },
  {
   "cell_type": "code",
   "execution_count": null,
   "id": "1d028716-99e0-42df-b99d-149b87b66ed7",
   "metadata": {},
   "outputs": [],
   "source": [
    "# 'Ссылка на объявление'"
   ]
  }
 ],
 "metadata": {
  "kernelspec": {
   "display_name": "Python 3 (ipykernel)",
   "language": "python",
   "name": "python3"
  },
  "language_info": {
   "codemirror_mode": {
    "name": "ipython",
    "version": 3
   },
   "file_extension": ".py",
   "mimetype": "text/x-python",
   "name": "python",
   "nbconvert_exporter": "python",
   "pygments_lexer": "ipython3",
   "version": "3.10.9"
  }
 },
 "nbformat": 4,
 "nbformat_minor": 5
}
